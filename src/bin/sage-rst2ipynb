#!/usr/bin/env bash

fail () {
    echo "ERROR: ${1}" 1>&2
    exit 1
}

# tests if dependencies are available
pandoc -v > /dev/null 2>&1 || fail 'Please install pandoc on your system.'
[ $(sage-list-packages installed | grep '^rst2ipynb\.\.\.') ] || fail \
    'Please install the rst2ipynb optional package with `sage -i rst2ipynb`.'

case  "${#}" in
    (1)
        rst2ipynb --kernel='sagemath' ${1} ;;
    (2)
        rst2ipynb --kernel='sagemath' ${1} -o ${2} ;;
    (*)
        fail 'Usage: sage -rst2ipynb input.rst [output.ipynb].' ;;
esac

exit 0
