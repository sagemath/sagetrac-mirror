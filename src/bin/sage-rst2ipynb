#!/usr/bin/env bash

fail () {
    echo "ERROR: ${1}" 1>&2
    exit 1
}

# tests if dependencies are available
pandoc -v > /dev/null 2>&1 || fail 'rst2ipnb requires pandoc; please install it on your system.'
[ $(sage-list-packages installed | grep '^rst2ipynb\.\.\.') ] || fail \
    'The rst2ipynb optional package is required; please install it with `sage -i rst2ipynb`.'

case  "${#}" in
    (1)
        rst2ipynb --kernel='sagemath' ${1} ;;
    (2)
        rst2ipynb --kernel='sagemath' ${1} -o ${2} ;;
    (*)
        fail 'Usage: sage -rst2ipynb input.rst [output.ipynb].' ;;
esac

exit 0
