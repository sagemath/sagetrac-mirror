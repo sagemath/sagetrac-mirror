{
 "cells": [
  {
   "cell_type": "markdown",
   "metadata": {},
   "source": [
    "# Graduierte Algebra der gemischten Differentialformen"
   ]
  },
  {
   "cell_type": "markdown",
   "metadata": {},
   "source": [
    "Sei $M,N$ jeweils eine differenzierbare $m$- bzw. $n$-dimensionale Mannigfaltigkeit. Ferner sei $\\varphi: M \\to N$ differenzierbar. Der Raum der $k$-Formen $\\Omega^k(M,\\varphi)=\\Gamma \\left( \\bigwedge^k \\left( \\varphi^* T^*N \\right) \\right)$ auf $M$ entlang $\\varphi$ ist ein Modul über $C^\\infty(M)$. Durch das Wedge-Produkt erhalten wir eine Multiplikation zwischen diesen Formen und gewinnen damit eine graduierte Algebra $\\Omega^*(M, \\varphi)=\\bigoplus^n_{k=0} \\Omega^k(M, \\varphi)$ über wahlweise $\\mathbb{R}$ oder $\\mathbb{C}$, die wir nun implementieren wollen. Ziel ist es, später Matrix-Operationen im Sage-Framework über dieser Algebra durchzuführen."
   ]
  },
  {
   "cell_type": "markdown",
   "metadata": {},
   "source": [
    "Jetzt probieren wir mal ein wenig herum und definieren uns dafür zunächst eine Mannigfaltigkeit mit Karte"
   ]
  },
  {
   "cell_type": "code",
   "execution_count": 1,
   "metadata": {
    "scrolled": false
   },
   "outputs": [],
   "source": [
    "M = Manifold(2, 'M')\n",
    "X.<x,y> = M.chart()"
   ]
  },
  {
   "cell_type": "markdown",
   "metadata": {},
   "source": [
    "und die entsprechenden Räume:"
   ]
  },
  {
   "cell_type": "code",
   "execution_count": 2,
   "metadata": {},
   "outputs": [
    {
     "name": "stdout",
     "output_type": "stream",
     "text": [
      "Algebra of differentiable scalar fields on the 2-dimensional differentiable manifold M\n",
      "Free module Omega^1(M) of 1-forms on the 2-dimensional differentiable manifold M\n",
      "Free module Omega^2(M) of 2-forms on the 2-dimensional differentiable manifold M\n"
     ]
    }
   ],
   "source": [
    "Omega0 = M.diff_form_module(0); print(Omega0)\n",
    "Omega1 = M.diff_form_module(1); print(Omega1)\n",
    "Omega2 = M.diff_form_module(2); print(Omega2)"
   ]
  },
  {
   "cell_type": "code",
   "execution_count": 3,
   "metadata": {
    "scrolled": true
   },
   "outputs": [
    {
     "name": "stdout",
     "output_type": "stream",
     "text": [
      "Graded algebra Omega^*(M) of mixed differential forms on the 2-dimensional differentiable manifold M\n"
     ]
    }
   ],
   "source": [
    "Omega = M.mixed_form_algebra(); print(Omega)"
   ]
  },
  {
   "cell_type": "code",
   "execution_count": 4,
   "metadata": {},
   "outputs": [
    {
     "name": "stdout",
     "output_type": "stream",
     "text": [
      "Category of graded algebras over Symbolic Ring\n"
     ]
    }
   ],
   "source": [
    "print(Omega.category())"
   ]
  },
  {
   "cell_type": "code",
   "execution_count": 5,
   "metadata": {},
   "outputs": [
    {
     "name": "stdout",
     "output_type": "stream",
     "text": [
      "Symbolic Ring\n"
     ]
    }
   ],
   "source": [
    "print(Omega.base_ring())"
   ]
  },
  {
   "cell_type": "markdown",
   "metadata": {},
   "source": [
    "Nun definieren wir ein paar Formen:"
   ]
  },
  {
   "cell_type": "code",
   "execution_count": 6,
   "metadata": {
    "scrolled": false
   },
   "outputs": [
    {
     "name": "stdout",
     "output_type": "stream",
     "text": [
      "Scalar field f on the 2-dimensional differentiable manifold M\n",
      "1-form a_1 on the 2-dimensional differentiable manifold M\n",
      "1-form a_2 on the 2-dimensional differentiable manifold M\n",
      "2-form b on the 2-dimensional differentiable manifold M\n"
     ]
    }
   ],
   "source": [
    "f = M.scalar_field(x, name='f'); print(f)\n",
    "a1 = M.diff_form(1, name='a_1'); print(a1)\n",
    "a2 = M.diff_form(1, name='a_2'); print(a2)\n",
    "b = M.diff_form(2, name='b'); print(b)"
   ]
  },
  {
   "cell_type": "markdown",
   "metadata": {},
   "source": [
    "und ordnen ihnen noch ein paar Werte zu:"
   ]
  },
  {
   "cell_type": "code",
   "execution_count": 7,
   "metadata": {
    "scrolled": true
   },
   "outputs": [
    {
     "data": {
      "text/html": [
       "<html><script type=\"math/tex; mode=display\">\\newcommand{\\Bold}[1]{\\mathbf{#1}}\\begin{array}{llcl} f:& M & \\longrightarrow & \\mathbb{R} \\\\ & \\left(x, y\\right) & \\longmapsto & x \\end{array}</script></html>"
      ],
      "text/plain": [
       "f: M --> R\n",
       "   (x, y) |--> x"
      ]
     },
     "metadata": {},
     "output_type": "display_data"
    },
    {
     "data": {
      "text/html": [
       "<html><script type=\"math/tex; mode=display\">\\newcommand{\\Bold}[1]{\\mathbf{#1}}a_1 = x^{2} y \\mathrm{d} x</script></html>"
      ],
      "text/plain": [
       "a_1 = x^2*y dx"
      ]
     },
     "metadata": {},
     "output_type": "display_data"
    },
    {
     "data": {
      "text/html": [
       "<html><script type=\"math/tex; mode=display\">\\newcommand{\\Bold}[1]{\\mathbf{#1}}a_2 = y \\mathrm{d} y</script></html>"
      ],
      "text/plain": [
       "a_2 = y dy"
      ]
     },
     "metadata": {},
     "output_type": "display_data"
    },
    {
     "data": {
      "text/html": [
       "<html><script type=\"math/tex; mode=display\">\\newcommand{\\Bold}[1]{\\mathbf{#1}}b = x y^{2} \\mathrm{d} x\\wedge \\mathrm{d} y</script></html>"
      ],
      "text/plain": [
       "b = x*y^2 dx/\\dy"
      ]
     },
     "metadata": {},
     "output_type": "display_data"
    }
   ],
   "source": [
    "show(f.display())\n",
    "a1[X.frame(),0] = y*x^2; show(a1.display())\n",
    "a2[X.frame(),1] = y; show(a2.display())\n",
    "b[X.frame(),0,1] = y^2*x; show(b.display())"
   ]
  },
  {
   "cell_type": "code",
   "execution_count": 8,
   "metadata": {},
   "outputs": [
    {
     "name": "stdout",
     "output_type": "stream",
     "text": [
      "Mixed differential form A on the 2-dimensional differentiable manifold M\n"
     ]
    }
   ],
   "source": [
    "A = Omega([f,a1,b], name='A'); print(A)"
   ]
  },
  {
   "cell_type": "code",
   "execution_count": 9,
   "metadata": {
    "scrolled": false
   },
   "outputs": [
    {
     "name": "stdout",
     "output_type": "stream",
     "text": [
      "A = f + a_1 + b\n"
     ]
    },
    {
     "data": {
      "text/html": [
       "<html><script type=\"math/tex; mode=display\">\\newcommand{\\Bold}[1]{\\mathbf{#1}}A = f + a_1 + b</script></html>"
      ],
      "text/plain": [
       "A = f + a_1 + b"
      ]
     },
     "metadata": {},
     "output_type": "display_data"
    }
   ],
   "source": [
    "print(A.display())\n",
    "show(A.display())"
   ]
  },
  {
   "cell_type": "markdown",
   "metadata": {},
   "source": [
    "Für die Ausgabe in Koordinaten müssen wir lediglich einen Rahmen angeben:"
   ]
  },
  {
   "cell_type": "code",
   "execution_count": 10,
   "metadata": {
    "scrolled": true
   },
   "outputs": [
    {
     "data": {
      "text/html": [
       "<html><script type=\"math/tex; mode=display\">\\newcommand{\\Bold}[1]{\\mathbf{#1}}A = \\left[ x \\right]_0 + \\left[ x^{2} y \\mathrm{d} x \\right]_1 + \\left[ x y^{2} \\mathrm{d} x\\wedge \\mathrm{d} y \\right]_2</script></html>"
      ],
      "text/plain": [
       "A = [x] + [x^2*y dx] + [x*y^2 dx/\\dy]"
      ]
     },
     "metadata": {},
     "output_type": "display_data"
    }
   ],
   "source": [
    "show(A.disp(X.frame()))"
   ]
  },
  {
   "cell_type": "markdown",
   "metadata": {},
   "source": [
    "Schauen wir einmal, ob wir die gemischten Differentialformen und deren Arithmetik richtig implementiert haben:"
   ]
  },
  {
   "cell_type": "code",
   "execution_count": 11,
   "metadata": {
    "scrolled": false
   },
   "outputs": [
    {
     "data": {
      "text/html": [
       "<html><script type=\"math/tex; mode=display\">\\newcommand{\\Bold}[1]{\\mathbf{#1}}A+a_2 = \\left[ x \\right]_0 + \\left[ x^{2} y \\mathrm{d} x + y \\mathrm{d} y \\right]_1 + \\left[ x y^{2} \\mathrm{d} x\\wedge \\mathrm{d} y \\right]_2</script></html>"
      ],
      "text/plain": [
       "A+a_2 = [x] + [x^2*y dx + y dy] + [x*y^2 dx/\\dy]"
      ]
     },
     "metadata": {},
     "output_type": "display_data"
    },
    {
     "data": {
      "text/html": [
       "<html><script type=\"math/tex; mode=display\">\\newcommand{\\Bold}[1]{\\mathbf{#1}}A-A\\wedge \\left(A+a_2\\right) = \\left[ -x^{2} + x \\right]_0 + \\left[ -{\\left(2 \\, x^{3} - x^{2}\\right)} y \\mathrm{d} x -x y \\mathrm{d} y \\right]_1 + \\left[ -{\\left(3 \\, x^{2} - x\\right)} y^{2} \\mathrm{d} x\\wedge \\mathrm{d} y \\right]_2</script></html>"
      ],
      "text/plain": [
       "A-A/\\(A+a_2) = [-x^2 + x] + [-(2*x^3 - x^2)*y dx - x*y dy] + [-(3*x^2 - x)*y^2 dx/\\dy]"
      ]
     },
     "metadata": {},
     "output_type": "display_data"
    },
    {
     "data": {
      "text/html": [
       "<html><script type=\"math/tex; mode=display\">\\newcommand{\\Bold}[1]{\\mathbf{#1}}A-\\left(A+a_2\\right)\\wedge A = \\left[ -x^{2} + x \\right]_0 + \\left[ -{\\left(2 \\, x^{3} - x^{2}\\right)} y \\mathrm{d} x -x y \\mathrm{d} y \\right]_1 + \\left[ -{\\left(x^{2} - x\\right)} y^{2} \\mathrm{d} x\\wedge \\mathrm{d} y \\right]_2</script></html>"
      ],
      "text/plain": [
       "A-(A+a_2)/\\A = [-x^2 + x] + [-(2*x^3 - x^2)*y dx - x*y dy] + [-(x^2 - x)*y^2 dx/\\dy]"
      ]
     },
     "metadata": {},
     "output_type": "display_data"
    }
   ],
   "source": [
    "B = A + a2; show(B.disp(X.frame()))\n",
    "C = A - A*B; show(C.disp(X.frame())) # Die disp-Ausgabe darf durchaus noch verbessert werden...\n",
    "D = A - B*A; show(D.disp(X.frame())) # Die Multiplikation ist offensichtlich nicht kommutativ!"
   ]
  },
  {
   "cell_type": "markdown",
   "metadata": {},
   "source": [
    "Sieht gut aus. Zur Überprüfung schauen wir uns einmal die Coercions an:"
   ]
  },
  {
   "cell_type": "code",
   "execution_count": 12,
   "metadata": {
    "scrolled": true
   },
   "outputs": [
    {
     "data": {
      "text/html": [
       "<html><script type=\"math/tex; mode=display\">\\newcommand{\\Bold}[1]{\\mathbf{#1}}f = f + 0 + 0</script></html>"
      ],
      "text/plain": [
       "f = f + zero + zero"
      ]
     },
     "metadata": {},
     "output_type": "display_data"
    },
    {
     "data": {
      "text/html": [
       "<html><script type=\"math/tex; mode=display\">\\newcommand{\\Bold}[1]{\\mathbf{#1}}a_2 = 0 + a_2 + 0</script></html>"
      ],
      "text/plain": [
       "a_2 = zero + a_2 + zero"
      ]
     },
     "metadata": {},
     "output_type": "display_data"
    },
    {
     "data": {
      "text/html": [
       "<html><script type=\"math/tex; mode=display\">\\newcommand{\\Bold}[1]{\\mathbf{#1}}f\\wedge a_2 = 0 +\\mbox{(unnamed 1-form)} +\\mbox{(unnamed 2-form)}</script></html>"
      ],
      "text/plain": [
       "f/\\a_2 = zero + (unnamed 1-form) + (unnamed 2-form)"
      ]
     },
     "metadata": {},
     "output_type": "display_data"
    },
    {
     "data": {
      "text/html": [
       "<html><script type=\"math/tex; mode=display\">\\newcommand{\\Bold}[1]{\\mathbf{#1}}a_2\\wedge a_1 = 0 +\\mbox{(unnamed 1-form)} +\\mbox{(unnamed 2-form)}</script></html>"
      ],
      "text/plain": [
       "a_2/\\a_1 = zero + (unnamed 1-form) + (unnamed 2-form)"
      ]
     },
     "metadata": {},
     "output_type": "display_data"
    }
   ],
   "source": [
    "show(Omega.coerce(f).display())\n",
    "show(Omega.coerce(a2).display())\n",
    "show((Omega.coerce(f)*Omega.coerce(a2)).display())\n",
    "show((Omega.coerce(a2)*Omega.coerce(a1)).display())"
   ]
  },
  {
   "cell_type": "markdown",
   "metadata": {},
   "source": [
    "Wunderbar! Die Coercion scheint vollständig implementiert. Können wir nun also auch sagen, ob die entsprechenden Differentialformen in $\\Omega^*(M)$ leben? Ja, das können wir!"
   ]
  },
  {
   "cell_type": "code",
   "execution_count": 13,
   "metadata": {},
   "outputs": [
    {
     "name": "stdout",
     "output_type": "stream",
     "text": [
      "True\n",
      "True\n",
      "True\n",
      "True\n"
     ]
    }
   ],
   "source": [
    "print(a1 in Omega1)\n",
    "print(a1 in Omega)\n",
    "print(f in Omega0)\n",
    "print(f in Omega)"
   ]
  },
  {
   "cell_type": "markdown",
   "metadata": {},
   "source": [
    "Komponentenmanipulation der Klasse:"
   ]
  },
  {
   "cell_type": "code",
   "execution_count": 14,
   "metadata": {},
   "outputs": [
    {
     "data": {
      "text/html": [
       "<html><script type=\"math/tex; mode=display\">\\newcommand{\\Bold}[1]{\\mathbf{#1}}\\begin{array}{llcl} f:& M & \\longrightarrow & \\mathbb{R} \\\\ & \\left(x, y\\right) & \\longmapsto & x \\end{array}</script></html>"
      ],
      "text/plain": [
       "f: M --> R\n",
       "   (x, y) |--> x"
      ]
     },
     "metadata": {},
     "output_type": "display_data"
    },
    {
     "data": {
      "text/html": [
       "<html><script type=\"math/tex; mode=display\">\\newcommand{\\Bold}[1]{\\mathbf{#1}}b = x y^{2} \\mathrm{d} x\\wedge \\mathrm{d} y</script></html>"
      ],
      "text/plain": [
       "b = x*y^2 dx/\\dy"
      ]
     },
     "metadata": {},
     "output_type": "display_data"
    }
   ],
   "source": [
    "show(A[0].display())\n",
    "show(A[2].display())"
   ]
  },
  {
   "cell_type": "code",
   "execution_count": 15,
   "metadata": {},
   "outputs": [
    {
     "data": {
      "text/html": [
       "<html><script type=\"math/tex; mode=display\">\\newcommand{\\Bold}[1]{\\mathbf{#1}}A = f + a_1 + b</script></html>"
      ],
      "text/plain": [
       "A = f + a_1 + b"
      ]
     },
     "metadata": {},
     "output_type": "display_data"
    },
    {
     "data": {
      "text/html": [
       "<html><script type=\"math/tex; mode=display\">\\newcommand{\\Bold}[1]{\\mathbf{#1}}A = f + a_2 + b</script></html>"
      ],
      "text/plain": [
       "A = f + a_2 + b"
      ]
     },
     "metadata": {},
     "output_type": "display_data"
    }
   ],
   "source": [
    "show(A.display())\n",
    "A[1]=a2; show(A.display())"
   ]
  },
  {
   "cell_type": "code",
   "execution_count": 16,
   "metadata": {},
   "outputs": [
    {
     "name": "stdout",
     "output_type": "stream",
     "text": [
      "[Scalar field f on the 2-dimensional differentiable manifold M, 1-form zero on the 2-dimensional differentiable manifold M, 2-form zero on the 2-dimensional differentiable manifold M]\n"
     ]
    }
   ],
   "source": [
    "A[:] = [f,0,0]; print(A[:])"
   ]
  },
  {
   "cell_type": "markdown",
   "metadata": {},
   "source": [
    "Versuchen wir nun ein wenig mit Matrizen rumzurechnen:"
   ]
  },
  {
   "cell_type": "code",
   "execution_count": 17,
   "metadata": {},
   "outputs": [
    {
     "name": "stdout",
     "output_type": "stream",
     "text": [
      "Full MatrixSpace of 2 by 2 dense matrices over Graded algebra Omega^*(M) of mixed differential forms on the 2-dimensional differentiable manifold M\n"
     ]
    }
   ],
   "source": [
    "MS = MatrixSpace(Omega, 2); print(MS)"
   ]
  },
  {
   "cell_type": "code",
   "execution_count": 18,
   "metadata": {},
   "outputs": [
    {
     "data": {
      "text/html": [
       "<html><script type=\"math/tex; mode=display\">\\newcommand{\\Bold}[1]{\\mathbf{#1}}\\left(\\begin{array}{rr}\n",
       "a_1 & 0 \\\\\n",
       "0 & a_2\n",
       "\\end{array}\\right)</script></html>"
      ],
      "text/plain": [
       "[ Mixed differential form a_1 on the 2-dimensional differentiable manifold M Mixed differential form zero on the 2-dimensional differentiable manifold M]\n",
       "[Mixed differential form zero on the 2-dimensional differentiable manifold M  Mixed differential form a_2 on the 2-dimensional differentiable manifold M]"
      ]
     },
     "metadata": {},
     "output_type": "display_data"
    },
    {
     "data": {
      "text/html": [
       "<html><script type=\"math/tex; mode=display\">\\newcommand{\\Bold}[1]{\\mathbf{#1}}\\left(\\begin{array}{rr}\n",
       "a_2 & 0 \\\\\n",
       "0 & a_1\n",
       "\\end{array}\\right)</script></html>"
      ],
      "text/plain": [
       "[ Mixed differential form a_2 on the 2-dimensional differentiable manifold M Mixed differential form zero on the 2-dimensional differentiable manifold M]\n",
       "[Mixed differential form zero on the 2-dimensional differentiable manifold M  Mixed differential form a_1 on the 2-dimensional differentiable manifold M]"
      ]
     },
     "metadata": {},
     "output_type": "display_data"
    }
   ],
   "source": [
    "m1 = MS.matrix([a1,Omega.zero(),Omega.zero(),a2]); show(m1) # Jaja, die Ausgabe muss verbessert werden...\n",
    "m2 = MS.matrix([a2,Omega.zero(),Omega.zero(),a1]); show(m2)"
   ]
  },
  {
   "cell_type": "code",
   "execution_count": 19,
   "metadata": {},
   "outputs": [
    {
     "data": {
      "text/html": [
       "<html><script type=\"math/tex; mode=display\">\\newcommand{\\Bold}[1]{\\mathbf{#1}}a_1\\wedge a_2-0\\wedge 0 = \\left[ 0 \\right]_0 + \\left[ 0 \\right]_1 + \\left[ x^{2} y^{2} \\mathrm{d} x\\wedge \\mathrm{d} y \\right]_2</script></html>"
      ],
      "text/plain": [
       "a_1/\\a_2-zero/\\zero = [0] + [0] + [x^2*y^2 dx/\\dy]"
      ]
     },
     "metadata": {},
     "output_type": "display_data"
    },
    {
     "data": {
      "text/html": [
       "<html><script type=\"math/tex; mode=display\">\\newcommand{\\Bold}[1]{\\mathbf{#1}}a_2\\wedge a_1-0\\wedge 0 = \\left[ 0 \\right]_0 + \\left[ 0 \\right]_1 + \\left[ -x^{2} y^{2} \\mathrm{d} x\\wedge \\mathrm{d} y \\right]_2</script></html>"
      ],
      "text/plain": [
       "a_2/\\a_1-zero/\\zero = [0] + [0] + [-x^2*y^2 dx/\\dy]"
      ]
     },
     "metadata": {},
     "output_type": "display_data"
    }
   ],
   "source": [
    "show(m1.determinant().disp(X.frame())) # Okay, das Ergebnis stimmt schonmal. Und...\n",
    "show(m2.determinant().disp(X.frame())) # ...glücklicherweise beachtet Sage beim Determinieren auch die Reihenfolge!"
   ]
  },
  {
   "cell_type": "markdown",
   "metadata": {},
   "source": [
    "Wie ist denn das jetzt mit den Restrictions? Probieren wir wieder mal ein wenig herum:"
   ]
  },
  {
   "cell_type": "code",
   "execution_count": 20,
   "metadata": {},
   "outputs": [
    {
     "name": "stdout",
     "output_type": "stream",
     "text": [
      "Mixed differential form A on the Open subset U of the 2-dimensional differentiable manifold M\n",
      "Mixed differential form A+a_2 on the Open subset U of the 2-dimensional differentiable manifold M\n"
     ]
    }
   ],
   "source": [
    "U = M.open_subset('U')\n",
    "print(A.restrict(U))\n",
    "print(B.restrict(U))"
   ]
  },
  {
   "cell_type": "code",
   "execution_count": 21,
   "metadata": {},
   "outputs": [
    {
     "name": "stdout",
     "output_type": "stream",
     "text": [
      "Graded algebra Omega^*(U) of mixed differential forms on the Open subset U of the 2-dimensional differentiable manifold M\n"
     ]
    }
   ],
   "source": [
    "OmegaU = U.mixed_form_algebra(); print(OmegaU)"
   ]
  },
  {
   "cell_type": "code",
   "execution_count": 22,
   "metadata": {},
   "outputs": [
    {
     "name": "stdout",
     "output_type": "stream",
     "text": [
      "Mixed differential form A on the Open subset U of the 2-dimensional differentiable manifold M\n"
     ]
    }
   ],
   "source": [
    "print(OmegaU.coerce(A))"
   ]
  },
  {
   "cell_type": "markdown",
   "metadata": {},
   "source": [
    "Okay, momentan war die Mannigfaltigkeit noch parallelisierbar. Was ist aber, wenn nicht?"
   ]
  },
  {
   "cell_type": "code",
   "execution_count": 23,
   "metadata": {},
   "outputs": [
    {
     "name": "stdout",
     "output_type": "stream",
     "text": [
      "2-dimensional differentiable manifold S2\n"
     ]
    }
   ],
   "source": [
    "S2 = Manifold(2, name='S2', latex_name=r'S^2', start_index=1); print(S2)"
   ]
  },
  {
   "cell_type": "code",
   "execution_count": 24,
   "metadata": {},
   "outputs": [
    {
     "data": {
      "text/html": [
       "<html><script type=\"math/tex; mode=display\">\\newcommand{\\Bold}[1]{\\mathbf{#1}}S^2 \\setminus \\{\\text{South pole}\\}</script></html>"
      ],
      "text/plain": [
       "Open subset U of the 2-dimensional differentiable manifold S2"
      ]
     },
     "metadata": {},
     "output_type": "display_data"
    },
    {
     "data": {
      "text/html": [
       "<html><script type=\"math/tex; mode=display\">\\newcommand{\\Bold}[1]{\\mathbf{#1}}S^2 \\setminus \\{\\text{North pole}\\}</script></html>"
      ],
      "text/plain": [
       "Open subset V of the 2-dimensional differentiable manifold S2"
      ]
     },
     "metadata": {},
     "output_type": "display_data"
    }
   ],
   "source": [
    "U = S2.open_subset(name='U', latex_name=r'S^2 \\setminus \\{\\text{South pole}\\}'); show(U)\n",
    "V = S2.open_subset(name='V', latex_name=r'S^2 \\setminus \\{\\text{North pole}\\}'); show(V)\n",
    "S2.declare_union(U,V)"
   ]
  },
  {
   "cell_type": "code",
   "execution_count": 25,
   "metadata": {},
   "outputs": [
    {
     "name": "stdout",
     "output_type": "stream",
     "text": [
      "Chart (U, (t, z))\n",
      "Chart (V, (u, v))\n"
     ]
    }
   ],
   "source": [
    "c_tz.<t,z> = U.chart(); print(c_tz)\n",
    "c_uv.<u,v> = V.chart(); print(c_uv)"
   ]
  },
  {
   "cell_type": "code",
   "execution_count": 26,
   "metadata": {},
   "outputs": [
    {
     "name": "stdout",
     "output_type": "stream",
     "text": [
      "Change of coordinates from Chart (W, (t, z)) to Chart (W, (u, v))\n",
      "Change of coordinates from Chart (W, (u, v)) to Chart (W, (t, z))\n"
     ]
    }
   ],
   "source": [
    "tz_to_uv = c_tz.transition_map(c_uv, (t/(t^2+z^2), z/(t^2+z^2)),\n",
    "                               intersection_name='W', restrictions1= t^2+z^2!=0,\n",
    "                               restrictions2= u^2+v^2!=0); print(tz_to_uv)\n",
    "uv_to_tz = tz_to_uv.inverse(); print(uv_to_tz)"
   ]
  },
  {
   "cell_type": "code",
   "execution_count": 27,
   "metadata": {},
   "outputs": [
    {
     "name": "stdout",
     "output_type": "stream",
     "text": [
      "Coordinate frame (U, (d/dt,d/dz))\n",
      "Coordinate frame (V, (d/du,d/dv))\n"
     ]
    }
   ],
   "source": [
    "e_tz = c_tz.frame(); print(e_tz)\n",
    "e_uv = c_uv.frame(); print(e_uv)"
   ]
  },
  {
   "cell_type": "code",
   "execution_count": 28,
   "metadata": {
    "scrolled": true
   },
   "outputs": [
    {
     "name": "stdout",
     "output_type": "stream",
     "text": [
      "Scalar field g on the 2-dimensional differentiable manifold S2\n",
      "1-form omega on the 2-dimensional differentiable manifold S2\n",
      "1-form eta on the 2-dimensional differentiable manifold S2\n"
     ]
    }
   ],
   "source": [
    "g = S2.scalar_field(t, name='g'); print(g)\n",
    "omega = S2.diff_form(1, name='omega', latex_name=r'\\omega'); print(omega)\n",
    "eta = S2.diff_form(1, name='eta', latex_name=r'\\eta'); print(eta)"
   ]
  },
  {
   "cell_type": "code",
   "execution_count": 29,
   "metadata": {
    "scrolled": false
   },
   "outputs": [
    {
     "data": {
      "text/html": [
       "<html><script type=\"math/tex; mode=display\">\\newcommand{\\Bold}[1]{\\mathbf{#1}}\\omega = -t^{2} \\mathrm{d} t + z^{2} \\mathrm{d} z</script></html>"
      ],
      "text/plain": [
       "omega = -t^2 dt + z^2 dz"
      ]
     },
     "metadata": {},
     "output_type": "display_data"
    },
    {
     "data": {
      "text/html": [
       "<html><script type=\"math/tex; mode=display\">\\newcommand{\\Bold}[1]{\\mathbf{#1}}\\eta = v^{2} \\mathrm{d} u -u \\mathrm{d} v</script></html>"
      ],
      "text/plain": [
       "eta = v^2 du - u dv"
      ]
     },
     "metadata": {},
     "output_type": "display_data"
    }
   ],
   "source": [
    "omega[e_tz,:] = -t^2, z^2; show(omega.disp(e_tz))\n",
    "eta[e_uv,:] = v^2, -u; show(eta.disp(e_uv))"
   ]
  },
  {
   "cell_type": "code",
   "execution_count": 30,
   "metadata": {},
   "outputs": [
    {
     "name": "stdout",
     "output_type": "stream",
     "text": [
      "Graded algebra Omega^*(S2) of mixed differential forms on the 2-dimensional differentiable manifold S2\n"
     ]
    }
   ],
   "source": [
    "OmegaS2 = S2.mixed_form_algebra(); print(OmegaS2)"
   ]
  },
  {
   "cell_type": "code",
   "execution_count": 31,
   "metadata": {
    "scrolled": false
   },
   "outputs": [
    {
     "name": "stdout",
     "output_type": "stream",
     "text": [
      "Mixed differential form F on the 2-dimensional differentiable manifold S2\n"
     ]
    },
    {
     "data": {
      "text/html": [
       "<html><script type=\"math/tex; mode=display\">\\newcommand{\\Bold}[1]{\\mathbf{#1}}F = \\left[ t \\right]_0 + \\left[ -t^{2} \\mathrm{d} t + z^{2} \\mathrm{d} z \\right]_1 + \\left[ 0 \\right]_2</script></html>"
      ],
      "text/plain": [
       "F = [t] + [-t^2 dt + z^2 dz] + [0]"
      ]
     },
     "metadata": {},
     "output_type": "display_data"
    },
    {
     "name": "stdout",
     "output_type": "stream",
     "text": [
      "Mixed differential form G on the 2-dimensional differentiable manifold S2\n"
     ]
    },
    {
     "data": {
      "text/html": [
       "<html><script type=\"math/tex; mode=display\">\\newcommand{\\Bold}[1]{\\mathbf{#1}}G = \\left[ 0 \\right]_0 + \\left[ v^{2} \\mathrm{d} u -u \\mathrm{d} v \\right]_1 + \\left[ 0 \\right]_2</script></html>"
      ],
      "text/plain": [
       "G = [0] + [v^2 du - u dv] + [0]"
      ]
     },
     "metadata": {},
     "output_type": "display_data"
    }
   ],
   "source": [
    "F = OmegaS2([g,omega,0], name='F'); print(F); show(F.disp(e_tz))\n",
    "G = OmegaS2([0,eta,0], name='G'); print(G); show(G.disp(e_uv))"
   ]
  },
  {
   "cell_type": "markdown",
   "metadata": {},
   "source": [
    "Damit wir auch in allen Koordinaten mit den gemischten Formen rechnen können, müssen wir Sage anweisen, die entsprechenden Trafos durchzuführen. Glücklicherweise können wir dank unserer Implementierung alle Differentialformen mit einer Fliege schlagen:"
   ]
  },
  {
   "cell_type": "code",
   "execution_count": 32,
   "metadata": {},
   "outputs": [
    {
     "data": {
      "text/html": [
       "<html><script type=\"math/tex; mode=display\">\\newcommand{\\Bold}[1]{\\mathbf{#1}}F = \\left[ \\frac{u}{u^{2} + v^{2}} \\right]_0 + \\left[ \\left( \\frac{u^{4} - u^{2} v^{2} - 2 \\, u v^{3}}{u^{8} + 4 \\, u^{6} v^{2} + 6 \\, u^{4} v^{4} + 4 \\, u^{2} v^{6} + v^{8}} \\right) \\mathrm{d} u + \\left( \\frac{2 \\, u^{3} v + u^{2} v^{2} - v^{4}}{u^{8} + 4 \\, u^{6} v^{2} + 6 \\, u^{4} v^{4} + 4 \\, u^{2} v^{6} + v^{8}} \\right) \\mathrm{d} v \\right]_1 + \\left[ 0 \\right]_2</script></html>"
      ],
      "text/plain": [
       "F = [u/(u^2 + v^2)] + [(u^4 - u^2*v^2 - 2*u*v^3)/(u^8 + 4*u^6*v^2 + 6*u^4*v^4 + 4*u^2*v^6 + v^8) du + (2*u^3*v + u^2*v^2 - v^4)/(u^8 + 4*u^6*v^2 + 6*u^4*v^4 + 4*u^2*v^6 + v^8) dv] + [0]"
      ]
     },
     "metadata": {},
     "output_type": "display_data"
    },
    {
     "data": {
      "text/html": [
       "<html><script type=\"math/tex; mode=display\">\\newcommand{\\Bold}[1]{\\mathbf{#1}}G = \\left[ 0 \\right]_0 + \\left[ \\left( \\frac{2 \\, t^{4} z + 2 \\, t^{2} z^{3} - t^{2} z^{2} + z^{4}}{t^{8} + 4 \\, t^{6} z^{2} + 6 \\, t^{4} z^{4} + 4 \\, t^{2} z^{6} + z^{8}} \\right) \\mathrm{d} t + \\left( -\\frac{t^{5} - t z^{4} + 2 \\, t z^{3}}{t^{8} + 4 \\, t^{6} z^{2} + 6 \\, t^{4} z^{4} + 4 \\, t^{2} z^{6} + z^{8}} \\right) \\mathrm{d} z \\right]_1 + \\left[ 0 \\right]_2</script></html>"
      ],
      "text/plain": [
       "G = [0] + [(2*t^4*z + 2*t^2*z^3 - t^2*z^2 + z^4)/(t^8 + 4*t^6*z^2 + 6*t^4*z^4 + 4*t^2*z^6 + z^8) dt - (t^5 - t*z^4 + 2*t*z^3)/(t^8 + 4*t^6*z^2 + 6*t^4*z^4 + 4*t^2*z^6 + z^8) dz] + [0]"
      ]
     },
     "metadata": {},
     "output_type": "display_data"
    }
   ],
   "source": [
    "F.add_comp_by_continuation(e_uv, V.intersection(U), c_uv); show(F.disp(e_uv))\n",
    "G.add_comp_by_continuation(e_tz, U.intersection(V), c_tz); show(G.disp(e_tz))"
   ]
  },
  {
   "cell_type": "code",
   "execution_count": 33,
   "metadata": {
    "scrolled": false
   },
   "outputs": [
    {
     "data": {
      "text/html": [
       "<html><script type=\"math/tex; mode=display\">\\newcommand{\\Bold}[1]{\\mathbf{#1}}F\\wedge G = \\left[ 0 \\right]_0 + \\left[ \\left( \\frac{u v^{2}}{u^{2} + v^{2}} \\right) \\mathrm{d} u + \\left( -\\frac{u^{2}}{u^{2} + v^{2}} \\right) \\mathrm{d} v \\right]_1 + \\left[ \\left( -\\frac{u^{2} v^{4} - v^{6} + u^{5} - u^{3} v^{2} + 2 \\, {\\left(u^{3} - u^{2}\\right)} v^{3}}{u^{8} + 4 \\, u^{6} v^{2} + 6 \\, u^{4} v^{4} + 4 \\, u^{2} v^{6} + v^{8}} \\right) \\mathrm{d} u\\wedge \\mathrm{d} v \\right]_2</script></html>"
      ],
      "text/plain": [
       "F/\\G = [0] + [u*v^2/(u^2 + v^2) du - u^2/(u^2 + v^2) dv] + [-(u^2*v^4 - v^6 + u^5 - u^3*v^2 + 2*(u^3 - u^2)*v^3)/(u^8 + 4*u^6*v^2 + 6*u^4*v^4 + 4*u^2*v^6 + v^8) du/\\dv]"
      ]
     },
     "metadata": {},
     "output_type": "display_data"
    },
    {
     "data": {
      "text/html": [
       "<html><script type=\"math/tex; mode=display\">\\newcommand{\\Bold}[1]{\\mathbf{#1}}F\\wedge G = \\left[ 0 \\right]_0 + \\left[ \\left( \\frac{2 \\, t^{5} z + 2 \\, t^{3} z^{3} - t^{3} z^{2} + t z^{4}}{t^{8} + 4 \\, t^{6} z^{2} + 6 \\, t^{4} z^{4} + 4 \\, t^{2} z^{6} + z^{8}} \\right) \\mathrm{d} t + \\left( -\\frac{t^{6} - t^{2} z^{4} + 2 \\, t^{2} z^{3}}{t^{8} + 4 \\, t^{6} z^{2} + 6 \\, t^{4} z^{4} + 4 \\, t^{2} z^{6} + z^{8}} \\right) \\mathrm{d} z \\right]_1 + \\left[ \\left( \\frac{t^{7} - 2 \\, t^{2} z^{5} - z^{6} - {\\left(t^{3} - t^{2}\\right)} z^{4} - 2 \\, {\\left(t^{4} - t^{3}\\right)} z^{3}}{t^{8} + 4 \\, t^{6} z^{2} + 6 \\, t^{4} z^{4} + 4 \\, t^{2} z^{6} + z^{8}} \\right) \\mathrm{d} t\\wedge \\mathrm{d} z \\right]_2</script></html>"
      ],
      "text/plain": [
       "F/\\G = [0] + [(2*t^5*z + 2*t^3*z^3 - t^3*z^2 + t*z^4)/(t^8 + 4*t^6*z^2 + 6*t^4*z^4 + 4*t^2*z^6 + z^8) dt - (t^6 - t^2*z^4 + 2*t^2*z^3)/(t^8 + 4*t^6*z^2 + 6*t^4*z^4 + 4*t^2*z^6 + z^8) dz] + [(t^7 - 2*t^2*z^5 - z^6 - (t^3 - t^2)*z^4 - 2*(t^4 - t^3)*z^3)/(t^8 + 4*t^6*z^2 + 6*t^4*z^4 + 4*t^2*z^6 + z^8) dt/\\dz]"
      ]
     },
     "metadata": {},
     "output_type": "display_data"
    }
   ],
   "source": [
    "show((F*G).disp(e_uv))\n",
    "show((F*G).disp(e_tz))"
   ]
  },
  {
   "cell_type": "code",
   "execution_count": 34,
   "metadata": {},
   "outputs": [
    {
     "data": {
      "text/html": [
       "<html><script type=\"math/tex; mode=display\">\\newcommand{\\Bold}[1]{\\mathbf{#1}}\\mathrm{d}\\left(F\\wedge G\\right) = \\left[ 0 \\right]_0 + \\left[ 0 \\right]_1 + \\left[ \\left( -\\frac{2 \\, {\\left(u^{3} v + u v^{2}\\right)}}{u^{4} + 2 \\, u^{2} v^{2} + v^{4}} \\right) \\mathrm{d} u\\wedge \\mathrm{d} v \\right]_2</script></html>"
      ],
      "text/plain": [
       "d(F/\\G) = [0] + [0] + [-2*(u^3*v + u*v^2)/(u^4 + 2*u^2*v^2 + v^4) du/\\dv]"
      ]
     },
     "metadata": {},
     "output_type": "display_data"
    }
   ],
   "source": [
    "show((F*G).exterior_derivative().disp(e_uv))"
   ]
  }
 ],
 "metadata": {
  "kernelspec": {
   "display_name": "SageMath 8.8.beta0",
   "language": "",
   "name": "sagemath"
  },
  "language_info": {
   "codemirror_mode": {
    "name": "ipython",
    "version": 2
   },
   "file_extension": ".py",
   "mimetype": "text/x-python",
   "name": "python",
   "nbconvert_exporter": "python",
   "pygments_lexer": "ipython2",
   "version": "2.7.15"
  }
 },
 "nbformat": 4,
 "nbformat_minor": 2
}
